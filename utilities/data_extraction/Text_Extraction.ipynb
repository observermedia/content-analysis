{
 "cells": [
  {
   "cell_type": "markdown",
   "metadata": {},
   "source": [
    "Python script for data cleaning\n",
    "general idea is to: process data into R ingestiable format here, save, and load into R for text analysis\n",
    "\n",
    "\n",
    "importantly xml files are ordered by date (i.e. 1st file: 1996, last file: 2016)"
   ]
  },
  {
   "cell_type": "code",
   "execution_count": 108,
   "metadata": {
    "collapsed": false
   },
   "outputs": [],
   "source": [
    "import os\n",
    "from xml.dom import minidom\n",
    "import json\n",
    "import pandas as pd\n",
    "import re"
   ]
  },
  {
   "cell_type": "code",
   "execution_count": 19,
   "metadata": {
    "collapsed": false
   },
   "outputs": [
    {
     "name": "stdout",
     "output_type": "stream",
     "text": [
      "/Users/Clark/Dropbox/Upwork/Observer/nyoobserver.wordpress.com-2016-09-19-17_54_39\n"
     ]
    }
   ],
   "source": [
    "cd nyoobserver.wordpress.com-2016-09-19-17_54_39/"
   ]
  },
  {
   "cell_type": "code",
   "execution_count": 20,
   "metadata": {
    "collapsed": false
   },
   "outputs": [],
   "source": [
    "xmldoc = minidom.parse('observer.wordpress.2016-09-19.post_type-post.status-publish.001.xml')"
   ]
  },
  {
   "cell_type": "code",
   "execution_count": 54,
   "metadata": {
    "collapsed": false
   },
   "outputs": [
    {
     "data": {
      "text/plain": [
       "u'Rex Reed'"
      ]
     },
     "execution_count": 54,
     "metadata": {},
     "output_type": "execute_result"
    }
   ],
   "source": [
    "xmldoc.getElementsByTagName('item')[0].getElementsByTagName('category')[1].firstChild.nodeValue"
   ]
  },
  {
   "cell_type": "code",
   "execution_count": 40,
   "metadata": {
    "collapsed": false
   },
   "outputs": [
    {
     "data": {
      "text/plain": [
       "u'http://observer.com/1997/01/drudge-strikes-again-wheres-the-outrage/'"
      ]
     },
     "execution_count": 40,
     "metadata": {},
     "output_type": "execute_result"
    }
   ],
   "source": [
    "xmldoc.getElementsByTagName('item')[1].getElementsByTagName('link')[0].firstChild.nodeValue"
   ]
  },
  {
   "cell_type": "code",
   "execution_count": null,
   "metadata": {
    "collapsed": false
   },
   "outputs": [],
   "source": [
    "#Some XML files have a formating problem. Need to fix this...\n",
    "\n",
    "def prepare_data(write=True,sampling_ratio = 2):\n",
    "\n",
    "    #init empty dict\n",
    "    data = {'title':[], 'author':[]  ,'pubdate':[],'content':[], 'label':[], 'sublabel':[]}\n",
    "\n",
    "    #loop through all files\n",
    "    for xmldoc in os.listdir('.'):\n",
    "        #try/except block to handel errors in XML encoding...\n",
    "        try:\n",
    "            xmldoc = minidom.parse(xmldoc)\n",
    "            nb_docs = len(xmldoc.getElementsByTagName('item'))\n",
    "        except:\n",
    "            continue\n",
    "    #for a single xml file, extract all content and fill in dict\n",
    "    #Down sample by a factor of \"sampling_ratio\" \n",
    "        for i in range(0, nb_docs/sampling_ratio):\n",
    "            try:\n",
    "                title = xmldoc.getElementsByTagName('wp:post_name')[i].firstChild.nodeValue\n",
    "                author = xmldoc.getElementsByTagName('item')[i].getElementsByTagName('category')[2].firstChild.nodeValue\n",
    "                pubdate = xmldoc.getElementsByTagName('pubDate')[i].firstChild.nodeValue\n",
    "                content = xmldoc.getElementsByTagName('content:encoded')[i].firstChild.nodeValue\n",
    "                label = xmldoc.getElementsByTagName('item')[i].getElementsByTagName('category')[0].firstChild.nodeValue\n",
    "                sublabel = xmldoc.getElementsByTagName('item')[i].getElementsByTagName('category')[1].firstChild.nodeValue\n",
    "        except: \n",
    "            continue \n",
    "\n",
    "\n",
    "            data['title'].append(title)\n",
    "            data['author'].append(author)\n",
    "            data['pubdate'].append(pubdate)\n",
    "            data['content'].append(content)\n",
    "            data['label'].append(label)\n",
    "            data['sublabel'].append(sublabel)\n",
    "            \n",
    "    dataframe = pd.DataFrame.from_dict(data)\n",
    "    \n",
    "    if write == True:\n",
    "        #write to json\n",
    "        dataframe.reset_index().to_json('clean_data.json',orient = 'records')\n",
    "    \n",
    "    return dataframe\n"
   ]
  },
  {
   "cell_type": "code",
   "execution_count": 41,
   "metadata": {
    "collapsed": false
   },
   "outputs": [
    {
     "name": "stdout",
     "output_type": "stream",
     "text": [
      "/Users/Clark/Dropbox/Upwork/Observer/Recent_data\n"
     ]
    }
   ],
   "source": [
    "cd /Users/Clark/Dropbox/Upwork/Observer/Recent_data/"
   ]
  },
  {
   "cell_type": "code",
   "execution_count": 42,
   "metadata": {
    "collapsed": true
   },
   "outputs": [],
   "source": [
    "#init empty dict\n",
    "data = {'link':[], 'title':[], 'author':[]  ,'pubdate':[],'content':[], 'label':[], 'sublabel':[]}\n",
    "\n",
    "#loop through all files\n",
    "for xmldoc in os.listdir('.'):\n",
    "    #try/except block to handel errors in XML encoding...\n",
    "    try:\n",
    "        xmldoc = minidom.parse(xmldoc)\n",
    "        nb_docs = len(xmldoc.getElementsByTagName('item'))\n",
    "    except:\n",
    "        continue\n",
    "#for a single xml file, extract all content and fill in dict\n",
    "#Down sample by a factor of \"sampling_ratio\" \n",
    "    for i in range(0, nb_docs):\n",
    "        try:\n",
    "            link = xmldoc.getElementsByTagName('item')[i].getElementsByTagName('link')[0].firstChild.nodeValue\n",
    "            title = xmldoc.getElementsByTagName('wp:post_name')[i].firstChild.nodeValue\n",
    "            author = xmldoc.getElementsByTagName('item')[i].getElementsByTagName('category')[2].firstChild.nodeValue\n",
    "            pubdate = xmldoc.getElementsByTagName('pubDate')[i].firstChild.nodeValue\n",
    "            content = xmldoc.getElementsByTagName('content:encoded')[i].firstChild.nodeValue\n",
    "            label = xmldoc.getElementsByTagName('item')[i].getElementsByTagName('category')[0].firstChild.nodeValue\n",
    "            sublabel = xmldoc.getElementsByTagName('item')[i].getElementsByTagName('category')[1].firstChild.nodeValue\n",
    "        except: \n",
    "            continue \n",
    "\n",
    "        data['link'].append(link)\n",
    "        data['title'].append(title)\n",
    "        data['author'].append(author)\n",
    "        data['pubdate'].append(pubdate)\n",
    "        data['content'].append(content)\n",
    "        data['label'].append(label)\n",
    "        data['sublabel'].append(sublabel)\n",
    "\n",
    "dataframe = pd.DataFrame.from_dict(data)"
   ]
  },
  {
   "cell_type": "code",
   "execution_count": 43,
   "metadata": {
    "collapsed": false
   },
   "outputs": [
    {
     "data": {
      "text/plain": [
       "(19000, 7)"
      ]
     },
     "execution_count": 43,
     "metadata": {},
     "output_type": "execute_result"
    }
   ],
   "source": [
    "dataframe.shape"
   ]
  },
  {
   "cell_type": "code",
   "execution_count": 10,
   "metadata": {
    "collapsed": false,
    "scrolled": false
   },
   "outputs": [
    {
     "data": {
      "text/html": [
       "<div>\n",
       "<table border=\"1\" class=\"dataframe\">\n",
       "  <thead>\n",
       "    <tr style=\"text-align: right;\">\n",
       "      <th></th>\n",
       "      <th>author</th>\n",
       "      <th>content</th>\n",
       "      <th>label</th>\n",
       "      <th>pubdate</th>\n",
       "      <th>sublabel</th>\n",
       "      <th>title</th>\n",
       "    </tr>\n",
       "  </thead>\n",
       "  <tbody>\n",
       "    <tr>\n",
       "      <th>0</th>\n",
       "      <td>Fashion</td>\n",
       "      <td>&lt;p class=\"p1\"&gt;&lt;span class=\"s1\"&gt;Practicality is...</td>\n",
       "      <td>Business &amp;amp; Tech</td>\n",
       "      <td>Mon, 19 Sep 2016 20:31:01 +0000</td>\n",
       "      <td>Style &amp;amp; Design</td>\n",
       "      <td>modern-men-are-shopping-for-watches-that-match...</td>\n",
       "    </tr>\n",
       "    <tr>\n",
       "      <th>1</th>\n",
       "      <td>sage-lazzaro</td>\n",
       "      <td>[caption id=\"attachment_650600\" align=\"alignce...</td>\n",
       "      <td>Startups</td>\n",
       "      <td>Tue, 24 May 2016 20:08:43 +0000</td>\n",
       "      <td>Food &amp;amp; Drink</td>\n",
       "      <td>we-tried-a-bunch-of-wine-of-the-month-clubs-on...</td>\n",
       "    </tr>\n",
       "    <tr>\n",
       "      <th>2</th>\n",
       "      <td>Transfers</td>\n",
       "      <td>[caption id=\"attachment_650480\" align=\"alignce...</td>\n",
       "      <td>Style &amp;amp; Design</td>\n",
       "      <td>Tue, 24 May 2016 17:59:18 +0000</td>\n",
       "      <td>Real Estate</td>\n",
       "      <td>reit-king-david-e-simon-just-listed-his-625-pa...</td>\n",
       "    </tr>\n",
       "    <tr>\n",
       "      <th>3</th>\n",
       "      <td>ARbor</td>\n",
       "      <td>&lt;i&gt;The food scene in the Hamptons gets a refre...</td>\n",
       "      <td>Food &amp;amp; Drink</td>\n",
       "      <td>Tue, 24 May 2016 18:32:41 +0000</td>\n",
       "      <td>dena-silver</td>\n",
       "      <td>4-new-hamptons-restaurants-to-check-out-memori...</td>\n",
       "    </tr>\n",
       "    <tr>\n",
       "      <th>4</th>\n",
       "      <td>Transfers</td>\n",
       "      <td>[caption id=\"attachment_650528\" align=\"alignce...</td>\n",
       "      <td>Style &amp;amp; Design</td>\n",
       "      <td>Tue, 24 May 2016 18:59:22 +0000</td>\n",
       "      <td>Real Estate</td>\n",
       "      <td>victorias-secret-model-lindsay-ellington-is-st...</td>\n",
       "    </tr>\n",
       "  </tbody>\n",
       "</table>\n",
       "</div>"
      ],
      "text/plain": [
       "         author                                            content  \\\n",
       "0       Fashion  <p class=\"p1\"><span class=\"s1\">Practicality is...   \n",
       "1  sage-lazzaro  [caption id=\"attachment_650600\" align=\"alignce...   \n",
       "2     Transfers  [caption id=\"attachment_650480\" align=\"alignce...   \n",
       "3         ARbor  <i>The food scene in the Hamptons gets a refre...   \n",
       "4     Transfers  [caption id=\"attachment_650528\" align=\"alignce...   \n",
       "\n",
       "                 label                          pubdate            sublabel  \\\n",
       "0  Business &amp; Tech  Mon, 19 Sep 2016 20:31:01 +0000  Style &amp; Design   \n",
       "1             Startups  Tue, 24 May 2016 20:08:43 +0000    Food &amp; Drink   \n",
       "2   Style &amp; Design  Tue, 24 May 2016 17:59:18 +0000         Real Estate   \n",
       "3     Food &amp; Drink  Tue, 24 May 2016 18:32:41 +0000         dena-silver   \n",
       "4   Style &amp; Design  Tue, 24 May 2016 18:59:22 +0000         Real Estate   \n",
       "\n",
       "                                               title  \n",
       "0  modern-men-are-shopping-for-watches-that-match...  \n",
       "1  we-tried-a-bunch-of-wine-of-the-month-clubs-on...  \n",
       "2  reit-king-david-e-simon-just-listed-his-625-pa...  \n",
       "3  4-new-hamptons-restaurants-to-check-out-memori...  \n",
       "4  victorias-secret-model-lindsay-ellington-is-st...  "
      ]
     },
     "execution_count": 10,
     "metadata": {},
     "output_type": "execute_result"
    }
   ],
   "source": [
    "dataframe.head()"
   ]
  },
  {
   "cell_type": "code",
   "execution_count": 45,
   "metadata": {
    "collapsed": false
   },
   "outputs": [
    {
     "name": "stdout",
     "output_type": "stream",
     "text": [
      "/Users/Clark/Dropbox/Upwork/Observer/Clean_data\n"
     ]
    }
   ],
   "source": [
    "cd Clean_data/"
   ]
  },
  {
   "cell_type": "code",
   "execution_count": 46,
   "metadata": {
    "collapsed": true
   },
   "outputs": [],
   "source": []
  }
 ],
 "metadata": {
  "kernelspec": {
   "display_name": "Python [Root]",
   "language": "python",
   "name": "Python [Root]"
  },
  "language_info": {
   "codemirror_mode": {
    "name": "ipython",
    "version": 2
   },
   "file_extension": ".py",
   "mimetype": "text/x-python",
   "name": "python",
   "nbconvert_exporter": "python",
   "pygments_lexer": "ipython2",
   "version": "2.7.12"
  }
 },
 "nbformat": 4,
 "nbformat_minor": 0
}
