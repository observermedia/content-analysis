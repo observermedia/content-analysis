{
 "cells": [
  {
   "cell_type": "markdown",
   "metadata": {},
   "source": [
    "Python script for data cleaning\n",
    "general idea is to: process data into R ingestiable format here, save, and load into R for text analysis\n",
    "\n",
    "\n",
    "importantly xml files are ordered by date (i.e. 1st file: 1996, last file: 2016)"
   ]
  },
  {
   "cell_type": "code",
   "execution_count": 2,
   "metadata": {
    "collapsed": false
   },
   "outputs": [],
   "source": [
    "import os\n",
    "from xml.dom import minidom\n",
    "import json\n",
    "import pandas as pd\n",
    "import re"
   ]
  },
  {
   "cell_type": "code",
   "execution_count": null,
   "metadata": {
    "collapsed": false
   },
   "outputs": [],
   "source": [
    "cd nyoobserver.wordpress.com-2016-09-19-17_54_39/"
   ]
  },
  {
   "cell_type": "code",
   "execution_count": null,
   "metadata": {
    "collapsed": false
   },
   "outputs": [],
   "source": [
    "xmldoc = minidom.parse('observer.wordpress.2016-09-19.post_type-post.status-publish.001.xml')"
   ]
  },
  {
   "cell_type": "code",
   "execution_count": null,
   "metadata": {
    "collapsed": false
   },
   "outputs": [],
   "source": [
    "xmldoc.getElementsByTagName('item')[0].getElementsByTagName('category')[1].firstChild.nodeValue"
   ]
  },
  {
   "cell_type": "code",
   "execution_count": null,
   "metadata": {
    "collapsed": false
   },
   "outputs": [],
   "source": [
    "xmldoc.getElementsByTagName('item')[1].getElementsByTagName('link')[0].firstChild.nodeValue"
   ]
  },
  {
   "cell_type": "code",
   "execution_count": null,
   "metadata": {
    "collapsed": false
   },
   "outputs": [],
   "source": [
    "#Some XML files have a formating problem. Need to fix this...\n",
    "\n",
    "def prepare_data(write=True,sampling_ratio = 2):\n",
    "\n",
    "    #init empty dict\n",
    "    data = {'title':[], 'author':[]  ,'pubdate':[],'content':[], 'label':[], 'sublabel':[]}\n",
    "\n",
    "    #loop through all files\n",
    "    for xmldoc in os.listdir('.'):\n",
    "        #try/except block to handel errors in XML encoding...\n",
    "        try:\n",
    "            xmldoc = minidom.parse(xmldoc)\n",
    "            nb_docs = len(xmldoc.getElementsByTagName('item'))\n",
    "        except:\n",
    "            continue\n",
    "    #for a single xml file, extract all content and fill in dict\n",
    "    #Down sample by a factor of \"sampling_ratio\" \n",
    "        for i in range(0, nb_docs/sampling_ratio):\n",
    "            try:\n",
    "                title = xmldoc.getElementsByTagName('wp:post_name')[i].firstChild.nodeValue\n",
    "                author = xmldoc.getElementsByTagName('item')[i].getElementsByTagName('category')[2].firstChild.nodeValue\n",
    "                pubdate = xmldoc.getElementsByTagName('pubDate')[i].firstChild.nodeValue\n",
    "                content = xmldoc.getElementsByTagName('content:encoded')[i].firstChild.nodeValue\n",
    "                label = xmldoc.getElementsByTagName('item')[i].getElementsByTagName('category')[0].firstChild.nodeValue\n",
    "                sublabel = xmldoc.getElementsByTagName('item')[i].getElementsByTagName('category')[1].firstChild.nodeValue\n",
    "        except: \n",
    "            continue \n",
    "\n",
    "\n",
    "            data['title'].append(title)\n",
    "            data['author'].append(author)\n",
    "            data['pubdate'].append(pubdate)\n",
    "            data['content'].append(content)\n",
    "            data['label'].append(label)\n",
    "            data['sublabel'].append(sublabel)\n",
    "            \n",
    "    dataframe = pd.DataFrame.from_dict(data)\n",
    "    \n",
    "    if write == True:\n",
    "        #write to json\n",
    "        dataframe.reset_index().to_json('clean_data.json',orient = 'records')\n",
    "    \n",
    "    return dataframe\n"
   ]
  },
  {
   "cell_type": "code",
   "execution_count": 6,
   "metadata": {
    "collapsed": false
   },
   "outputs": [
    {
     "name": "stdout",
     "output_type": "stream",
     "text": [
      "/Users/Clark/Desktop/production_testing/recent_data\n"
     ]
    }
   ],
   "source": [
    "cd /Users/Clark/Desktop/production_testing/recent_data/"
   ]
  },
  {
   "cell_type": "code",
   "execution_count": 3,
   "metadata": {
    "collapsed": true
   },
   "outputs": [],
   "source": [
    "path = '/Users/Clark/Desktop/production_testing/recent_data/'"
   ]
  },
  {
   "cell_type": "code",
   "execution_count": 5,
   "metadata": {
    "collapsed": true
   },
   "outputs": [],
   "source": [
    "os.chdir(path)\n",
    "os.chdir('..')"
   ]
  },
  {
   "cell_type": "code",
   "execution_count": 6,
   "metadata": {
    "collapsed": false
   },
   "outputs": [
    {
     "data": {
      "text/plain": [
       "u'/Users/Clark/Desktop/production_testing'"
      ]
     },
     "execution_count": 6,
     "metadata": {},
     "output_type": "execute_result"
    }
   ],
   "source": [
    "pwd"
   ]
  },
  {
   "cell_type": "code",
   "execution_count": null,
   "metadata": {
    "collapsed": true
   },
   "outputs": [],
   "source": [
    "#init empty dict\n",
    "data = {'link':[], 'title':[], 'author':[]  ,'pubdate':[],'content':[], 'label':[], 'sublabel':[]}\n",
    "\n",
    "#loop through all files\n",
    "for xmldoc in os.listdir('.'):\n",
    "    #try/except block to handel errors in XML encoding...\n",
    "    try:\n",
    "        xmldoc = minidom.parse(xmldoc)\n",
    "        nb_docs = len(xmldoc.getElementsByTagName('item'))\n",
    "    except:\n",
    "        continue\n",
    "#for a single xml file, extract all content and fill in dict\n",
    "#Down sample by a factor of \"sampling_ratio\" \n",
    "    for i in range(0, nb_docs):\n",
    "        try:\n",
    "            link = xmldoc.getElementsByTagName('item')[i].getElementsByTagName('link')[0].firstChild.nodeValue\n",
    "            title = xmldoc.getElementsByTagName('wp:post_name')[i].firstChild.nodeValue\n",
    "            author = xmldoc.getElementsByTagName('item')[i].getElementsByTagName('category')[2].firstChild.nodeValue\n",
    "            pubdate = xmldoc.getElementsByTagName('pubDate')[i].firstChild.nodeValue\n",
    "            content = xmldoc.getElementsByTagName('content:encoded')[i].firstChild.nodeValue\n",
    "            label = xmldoc.getElementsByTagName('item')[i].getElementsByTagName('category')[0].firstChild.nodeValue\n",
    "            sublabel = xmldoc.getElementsByTagName('item')[i].getElementsByTagName('category')[1].firstChild.nodeValue\n",
    "        except: \n",
    "            continue \n",
    "\n",
    "        data['link'].append(link)\n",
    "        data['title'].append(title)\n",
    "        data['author'].append(author)\n",
    "        data['pubdate'].append(pubdate)\n",
    "        data['content'].append(content)\n",
    "        data['label'].append(label)\n",
    "        data['sublabel'].append(sublabel)\n",
    "\n",
    "dataframe = pd.DataFrame.from_dict(data)"
   ]
  },
  {
   "cell_type": "code",
   "execution_count": null,
   "metadata": {
    "collapsed": false
   },
   "outputs": [],
   "source": [
    "dataframe.shape"
   ]
  },
  {
   "cell_type": "code",
   "execution_count": null,
   "metadata": {
    "collapsed": false,
    "scrolled": false
   },
   "outputs": [],
   "source": [
    "dataframe.head()"
   ]
  },
  {
   "cell_type": "code",
   "execution_count": null,
   "metadata": {
    "collapsed": false
   },
   "outputs": [],
   "source": [
    "cd Clean_data/"
   ]
  },
  {
   "cell_type": "code",
   "execution_count": null,
   "metadata": {
    "collapsed": true
   },
   "outputs": [],
   "source": []
  }
 ],
 "metadata": {
  "kernelspec": {
   "display_name": "Python 2",
   "language": "python",
   "name": "python2"
  },
  "language_info": {
   "codemirror_mode": {
    "name": "ipython",
    "version": 2
   },
   "file_extension": ".py",
   "mimetype": "text/x-python",
   "name": "python",
   "nbconvert_exporter": "python",
   "pygments_lexer": "ipython2",
   "version": "2.7.10"
  }
 },
 "nbformat": 4,
 "nbformat_minor": 0
}
