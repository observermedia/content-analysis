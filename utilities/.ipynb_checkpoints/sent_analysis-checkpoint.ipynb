{
 "cells": [
  {
   "cell_type": "code",
   "execution_count": 19,
   "metadata": {
    "collapsed": false
   },
   "outputs": [],
   "source": [
    "from vaderSentiment.vaderSentiment import sentiment as vaderSentiment\n",
    "import pandas as pd"
   ]
  },
  {
   "cell_type": "code",
   "execution_count": 8,
   "metadata": {
    "collapsed": false
   },
   "outputs": [
    {
     "name": "stdout",
     "output_type": "stream",
     "text": [
      "/Users/Clark/Dropbox/Upwork/Observer/Clean_data\n"
     ]
    }
   ],
   "source": [
    "cd Clean_data/"
   ]
  },
  {
   "cell_type": "code",
   "execution_count": 32,
   "metadata": {
    "collapsed": true
   },
   "outputs": [],
   "source": [
    "df = pd.read_csv('sent_analysisdata.csv')"
   ]
  },
  {
   "cell_type": "code",
   "execution_count": 33,
   "metadata": {
    "collapsed": false
   },
   "outputs": [
    {
     "data": {
      "text/html": [
       "<div>\n",
       "<table border=\"1\" class=\"dataframe\">\n",
       "  <thead>\n",
       "    <tr style=\"text-align: right;\">\n",
       "      <th></th>\n",
       "      <th>Unnamed: 0</th>\n",
       "      <th>content</th>\n",
       "      <th>Page</th>\n",
       "    </tr>\n",
       "  </thead>\n",
       "  <tbody>\n",
       "    <tr>\n",
       "      <th>0</th>\n",
       "      <td>1</td>\n",
       "      <td>(Photo: 8tracks)8tracks, the popular Internet...</td>\n",
       "      <td>http://observer.com/2015/04/8tracks-launches-m...</td>\n",
       "    </tr>\n",
       "    <tr>\n",
       "      <th>1</th>\n",
       "      <td>2</td>\n",
       "      <td>Queens City Councilman Jimmy Van Bramer, righ...</td>\n",
       "      <td>http://observer.com/2015/04/two-sculptures-reo...</td>\n",
       "    </tr>\n",
       "    <tr>\n",
       "      <th>2</th>\n",
       "      <td>3</td>\n",
       "      <td>Temporary tattoos by True Hand, inspired by t...</td>\n",
       "      <td>http://observer.com/2015/04/the-philly-museum-...</td>\n",
       "    </tr>\n",
       "    <tr>\n",
       "      <th>3</th>\n",
       "      <td>4</td>\n",
       "      <td>Jewelry Designer Satya Scainetti (Photo: Emil...</td>\n",
       "      <td>http://observer.com/2015/04/luxury-jeweler-sat...</td>\n",
       "    </tr>\n",
       "    <tr>\n",
       "      <th>4</th>\n",
       "      <td>5</td>\n",
       "      <td>ScotchBroom/flickr.The condos at what was the...</td>\n",
       "      <td>http://observer.com/2015/04/on-the-market-blan...</td>\n",
       "    </tr>\n",
       "  </tbody>\n",
       "</table>\n",
       "</div>"
      ],
      "text/plain": [
       "   Unnamed: 0                                            content  \\\n",
       "0           1   (Photo: 8tracks)8tracks, the popular Internet...   \n",
       "1           2   Queens City Councilman Jimmy Van Bramer, righ...   \n",
       "2           3   Temporary tattoos by True Hand, inspired by t...   \n",
       "3           4   Jewelry Designer Satya Scainetti (Photo: Emil...   \n",
       "4           5   ScotchBroom/flickr.The condos at what was the...   \n",
       "\n",
       "                                                Page  \n",
       "0  http://observer.com/2015/04/8tracks-launches-m...  \n",
       "1  http://observer.com/2015/04/two-sculptures-reo...  \n",
       "2  http://observer.com/2015/04/the-philly-museum-...  \n",
       "3  http://observer.com/2015/04/luxury-jeweler-sat...  \n",
       "4  http://observer.com/2015/04/on-the-market-blan...  "
      ]
     },
     "execution_count": 33,
     "metadata": {},
     "output_type": "execute_result"
    }
   ],
   "source": [
    "df.head()"
   ]
  },
  {
   "cell_type": "code",
   "execution_count": 61,
   "metadata": {
    "collapsed": false
   },
   "outputs": [],
   "source": [
    "compound_list = []\n",
    "neg_list = []\n",
    "neu_list = []\n",
    "pos_list = []\n",
    "for i in range(0,len(df['content'])): \n",
    "    \n",
    "    try:\n",
    "        vs = vaderSentiment(df['content'].ix[i])\n",
    "        compound = vs['compound']\n",
    "        neg = vs['neg']\n",
    "        neu = vs['neu']\n",
    "        pos = vs['pos']\n",
    "    except:\n",
    "        compound = 0\n",
    "        neg = 0\n",
    "        neu = 0\n",
    "        pos = 0\n",
    "    compound_list.append(compound)\n",
    "    neg_list.append(neg)\n",
    "    neu_list.append(neu)\n",
    "    pos_list.append(pos)\n",
    "    "
   ]
  },
  {
   "cell_type": "code",
   "execution_count": 63,
   "metadata": {
    "collapsed": true
   },
   "outputs": [],
   "source": [
    "df['pos_score'] = pos_list\n",
    "df['neg_score'] = neg_list\n",
    "df['neu_score'] = neu_list\n",
    "df['compound_score'] = compound_list"
   ]
  },
  {
   "cell_type": "code",
   "execution_count": 64,
   "metadata": {
    "collapsed": false
   },
   "outputs": [
    {
     "data": {
      "text/html": [
       "<div>\n",
       "<table border=\"1\" class=\"dataframe\">\n",
       "  <thead>\n",
       "    <tr style=\"text-align: right;\">\n",
       "      <th></th>\n",
       "      <th>Unnamed: 0</th>\n",
       "      <th>content</th>\n",
       "      <th>Page</th>\n",
       "      <th>pos_score</th>\n",
       "      <th>neg_score</th>\n",
       "      <th>neu_score</th>\n",
       "      <th>compound_score</th>\n",
       "    </tr>\n",
       "  </thead>\n",
       "  <tbody>\n",
       "    <tr>\n",
       "      <th>0</th>\n",
       "      <td>1</td>\n",
       "      <td>(Photo: 8tracks)8tracks, the popular Internet...</td>\n",
       "      <td>http://observer.com/2015/04/8tracks-launches-m...</td>\n",
       "      <td>0.157</td>\n",
       "      <td>0.003</td>\n",
       "      <td>0.839</td>\n",
       "      <td>0.9943</td>\n",
       "    </tr>\n",
       "    <tr>\n",
       "      <th>1</th>\n",
       "      <td>2</td>\n",
       "      <td>Queens City Councilman Jimmy Van Bramer, righ...</td>\n",
       "      <td>http://observer.com/2015/04/two-sculptures-reo...</td>\n",
       "      <td>0.084</td>\n",
       "      <td>0.071</td>\n",
       "      <td>0.845</td>\n",
       "      <td>0.6751</td>\n",
       "    </tr>\n",
       "    <tr>\n",
       "      <th>2</th>\n",
       "      <td>3</td>\n",
       "      <td>Temporary tattoos by True Hand, inspired by t...</td>\n",
       "      <td>http://observer.com/2015/04/the-philly-museum-...</td>\n",
       "      <td>0.107</td>\n",
       "      <td>0.018</td>\n",
       "      <td>0.874</td>\n",
       "      <td>0.9952</td>\n",
       "    </tr>\n",
       "    <tr>\n",
       "      <th>3</th>\n",
       "      <td>4</td>\n",
       "      <td>Jewelry Designer Satya Scainetti (Photo: Emil...</td>\n",
       "      <td>http://observer.com/2015/04/luxury-jeweler-sat...</td>\n",
       "      <td>0.127</td>\n",
       "      <td>0.020</td>\n",
       "      <td>0.853</td>\n",
       "      <td>0.9985</td>\n",
       "    </tr>\n",
       "    <tr>\n",
       "      <th>4</th>\n",
       "      <td>5</td>\n",
       "      <td>ScotchBroom/flickr.The condos at what was the...</td>\n",
       "      <td>http://observer.com/2015/04/on-the-market-blan...</td>\n",
       "      <td>0.111</td>\n",
       "      <td>0.061</td>\n",
       "      <td>0.828</td>\n",
       "      <td>0.9885</td>\n",
       "    </tr>\n",
       "  </tbody>\n",
       "</table>\n",
       "</div>"
      ],
      "text/plain": [
       "   Unnamed: 0                                            content  \\\n",
       "0           1   (Photo: 8tracks)8tracks, the popular Internet...   \n",
       "1           2   Queens City Councilman Jimmy Van Bramer, righ...   \n",
       "2           3   Temporary tattoos by True Hand, inspired by t...   \n",
       "3           4   Jewelry Designer Satya Scainetti (Photo: Emil...   \n",
       "4           5   ScotchBroom/flickr.The condos at what was the...   \n",
       "\n",
       "                                                Page  pos_score  neg_score  \\\n",
       "0  http://observer.com/2015/04/8tracks-launches-m...      0.157      0.003   \n",
       "1  http://observer.com/2015/04/two-sculptures-reo...      0.084      0.071   \n",
       "2  http://observer.com/2015/04/the-philly-museum-...      0.107      0.018   \n",
       "3  http://observer.com/2015/04/luxury-jeweler-sat...      0.127      0.020   \n",
       "4  http://observer.com/2015/04/on-the-market-blan...      0.111      0.061   \n",
       "\n",
       "   neu_score  compound_score  \n",
       "0      0.839          0.9943  \n",
       "1      0.845          0.6751  \n",
       "2      0.874          0.9952  \n",
       "3      0.853          0.9985  \n",
       "4      0.828          0.9885  "
      ]
     },
     "execution_count": 64,
     "metadata": {},
     "output_type": "execute_result"
    }
   ],
   "source": [
    "df.head()"
   ]
  },
  {
   "cell_type": "code",
   "execution_count": 66,
   "metadata": {
    "collapsed": false
   },
   "outputs": [],
   "source": [
    "df.to_csv('sent_scores.csv')"
   ]
  },
  {
   "cell_type": "code",
   "execution_count": null,
   "metadata": {
    "collapsed": true
   },
   "outputs": [],
   "source": []
  }
 ],
 "metadata": {
  "kernelspec": {
   "display_name": "Python 2",
   "language": "python",
   "name": "python2"
  },
  "language_info": {
   "codemirror_mode": {
    "name": "ipython",
    "version": 2
   },
   "file_extension": ".py",
   "mimetype": "text/x-python",
   "name": "python",
   "nbconvert_exporter": "python",
   "pygments_lexer": "ipython2",
   "version": "2.7.10"
  }
 },
 "nbformat": 4,
 "nbformat_minor": 0
}
