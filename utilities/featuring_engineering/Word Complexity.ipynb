{
 "cells": [
  {
   "cell_type": "code",
   "execution_count": 2,
   "metadata": {
    "collapsed": true
   },
   "outputs": [],
   "source": [
    "import pandas as pd\n",
    "from textstat.textstat import textstat"
   ]
  },
  {
   "cell_type": "code",
   "execution_count": 7,
   "metadata": {
    "collapsed": false
   },
   "outputs": [
    {
     "name": "stdout",
     "output_type": "stream",
     "text": [
      "/Users/Clark/Dropbox/Upwork/Observer/Clean_data\n"
     ]
    }
   ],
   "source": [
    "cd Clean_data/"
   ]
  },
  {
   "cell_type": "code",
   "execution_count": 31,
   "metadata": {
    "collapsed": true
   },
   "outputs": [],
   "source": [
    "df = pd.read_csv('sent_analysisdata.csv')"
   ]
  },
  {
   "cell_type": "code",
   "execution_count": 35,
   "metadata": {
    "collapsed": false
   },
   "outputs": [
    {
     "data": {
      "text/html": [
       "<div>\n",
       "<table border=\"1\" class=\"dataframe\">\n",
       "  <thead>\n",
       "    <tr style=\"text-align: right;\">\n",
       "      <th></th>\n",
       "      <th>Unnamed: 0</th>\n",
       "      <th>content</th>\n",
       "      <th>Page</th>\n",
       "    </tr>\n",
       "  </thead>\n",
       "  <tbody>\n",
       "    <tr>\n",
       "      <th>0</th>\n",
       "      <td>1</td>\n",
       "      <td>(Photo: 8tracks)8tracks, the popular Internet...</td>\n",
       "      <td>http://observer.com/2015/04/8tracks-launches-m...</td>\n",
       "    </tr>\n",
       "    <tr>\n",
       "      <th>1</th>\n",
       "      <td>2</td>\n",
       "      <td>Queens City Councilman Jimmy Van Bramer, righ...</td>\n",
       "      <td>http://observer.com/2015/04/two-sculptures-reo...</td>\n",
       "    </tr>\n",
       "    <tr>\n",
       "      <th>2</th>\n",
       "      <td>3</td>\n",
       "      <td>Temporary tattoos by True Hand, inspired by t...</td>\n",
       "      <td>http://observer.com/2015/04/the-philly-museum-...</td>\n",
       "    </tr>\n",
       "    <tr>\n",
       "      <th>3</th>\n",
       "      <td>4</td>\n",
       "      <td>Jewelry Designer Satya Scainetti (Photo: Emil...</td>\n",
       "      <td>http://observer.com/2015/04/luxury-jeweler-sat...</td>\n",
       "    </tr>\n",
       "    <tr>\n",
       "      <th>4</th>\n",
       "      <td>5</td>\n",
       "      <td>ScotchBroom/flickr.The condos at what was the...</td>\n",
       "      <td>http://observer.com/2015/04/on-the-market-blan...</td>\n",
       "    </tr>\n",
       "    <tr>\n",
       "      <th>5</th>\n",
       "      <td>6</td>\n",
       "      <td>College collage (Photos: mtnbikrrrr/ Flickr, ...</td>\n",
       "      <td>http://observer.com/2015/04/rutgers-ban-on-all...</td>\n",
       "    </tr>\n",
       "    <tr>\n",
       "      <th>6</th>\n",
       "      <td>7</td>\n",
       "      <td>Councilman Vincent Gentile held a press confe...</td>\n",
       "      <td>http://observer.com/2015/04/gentile-backs-plan...</td>\n",
       "    </tr>\n",
       "    <tr>\n",
       "      <th>7</th>\n",
       "      <td>8</td>\n",
       "      <td>Basil Smile Jr. (Screengrab: NY1)Former Gov. ...</td>\n",
       "      <td>http://observer.com/2015/04/david-paterson-nam...</td>\n",
       "    </tr>\n",
       "    <tr>\n",
       "      <th>8</th>\n",
       "      <td>9</td>\n",
       "      <td>Matthew Teitelbaum, Ann and Graham Gund Direc...</td>\n",
       "      <td>http://observer.com/2015/04/museum-of-fine-art...</td>\n",
       "    </tr>\n",
       "    <tr>\n",
       "      <th>9</th>\n",
       "      <td>10</td>\n",
       "      <td>Members of the 2014 class of the New York Pol...</td>\n",
       "      <td>http://observer.com/2015/04/staten-island-cong...</td>\n",
       "    </tr>\n",
       "    <tr>\n",
       "      <th>10</th>\n",
       "      <td>11</td>\n",
       "      <td>Rutgers-Eagleton: Six in ten New Jerseyans sa...</td>\n",
       "      <td>http://observer.com/2015/04/morning-news-diges...</td>\n",
       "    </tr>\n",
       "    <tr>\n",
       "      <th>11</th>\n",
       "      <td>13</td>\n",
       "      <td>U.S. Senator Bob Menendez was first. Could Gov...</td>\n",
       "      <td>http://observer.com/2015/04/bridgegate-indictm...</td>\n",
       "    </tr>\n",
       "    <tr>\n",
       "      <th>12</th>\n",
       "      <td>14</td>\n",
       "      <td>In just over three decades it has become hard ...</td>\n",
       "      <td>http://observer.com/2015/04/clinton-and-christ...</td>\n",
       "    </tr>\n",
       "    <tr>\n",
       "      <th>13</th>\n",
       "      <td>15</td>\n",
       "      <td>A deportation officer with Immigration and Cus...</td>\n",
       "      <td>http://observer.com/2015/04/deportation-office...</td>\n",
       "    </tr>\n",
       "    <tr>\n",
       "      <th>14</th>\n",
       "      <td>16</td>\n",
       "      <td>Veteran Democratic operative Constantina Meis ...</td>\n",
       "      <td>http://observer.com/2015/04/veteran-nj-operati...</td>\n",
       "    </tr>\n",
       "    <tr>\n",
       "      <th>15</th>\n",
       "      <td>17</td>\n",
       "      <td>NEWARK - Newark Mayor Ras Baraka sat in his se...</td>\n",
       "      <td>http://observer.com/2015/04/baraka-on-bus-call...</td>\n",
       "    </tr>\n",
       "    <tr>\n",
       "      <th>16</th>\n",
       "      <td>18</td>\n",
       "      <td>Attorney Jorge Batista and Vivian Bell, two De...</td>\n",
       "      <td>http://observer.com/2015/04/ballot-position-fi...</td>\n",
       "    </tr>\n",
       "    <tr>\n",
       "      <th>17</th>\n",
       "      <td>19</td>\n",
       "      <td>The Republican nominee for U.S. Senate in New ...</td>\n",
       "      <td>http://observer.com/2015/04/2013-republican-u-...</td>\n",
       "    </tr>\n",
       "    <tr>\n",
       "      <th>18</th>\n",
       "      <td>20</td>\n",
       "      <td>The Performa Institute, 2012. (Photo credit: ...</td>\n",
       "      <td>http://observer.com/2015/04/an-april-renaissan...</td>\n",
       "    </tr>\n",
       "    <tr>\n",
       "      <th>19</th>\n",
       "      <td>21</td>\n",
       "      <td>Their Periscope wasn't great, but we learned ...</td>\n",
       "      <td>http://observer.com/2015/04/inside-periscope-h...</td>\n",
       "    </tr>\n",
       "  </tbody>\n",
       "</table>\n",
       "</div>"
      ],
      "text/plain": [
       "    Unnamed: 0                                            content  \\\n",
       "0            1   (Photo: 8tracks)8tracks, the popular Internet...   \n",
       "1            2   Queens City Councilman Jimmy Van Bramer, righ...   \n",
       "2            3   Temporary tattoos by True Hand, inspired by t...   \n",
       "3            4   Jewelry Designer Satya Scainetti (Photo: Emil...   \n",
       "4            5   ScotchBroom/flickr.The condos at what was the...   \n",
       "5            6   College collage (Photos: mtnbikrrrr/ Flickr, ...   \n",
       "6            7   Councilman Vincent Gentile held a press confe...   \n",
       "7            8   Basil Smile Jr. (Screengrab: NY1)Former Gov. ...   \n",
       "8            9   Matthew Teitelbaum, Ann and Graham Gund Direc...   \n",
       "9           10   Members of the 2014 class of the New York Pol...   \n",
       "10          11   Rutgers-Eagleton: Six in ten New Jerseyans sa...   \n",
       "11          13  U.S. Senator Bob Menendez was first. Could Gov...   \n",
       "12          14  In just over three decades it has become hard ...   \n",
       "13          15  A deportation officer with Immigration and Cus...   \n",
       "14          16  Veteran Democratic operative Constantina Meis ...   \n",
       "15          17  NEWARK - Newark Mayor Ras Baraka sat in his se...   \n",
       "16          18  Attorney Jorge Batista and Vivian Bell, two De...   \n",
       "17          19  The Republican nominee for U.S. Senate in New ...   \n",
       "18          20   The Performa Institute, 2012. (Photo credit: ...   \n",
       "19          21   Their Periscope wasn't great, but we learned ...   \n",
       "\n",
       "                                                 Page  \n",
       "0   http://observer.com/2015/04/8tracks-launches-m...  \n",
       "1   http://observer.com/2015/04/two-sculptures-reo...  \n",
       "2   http://observer.com/2015/04/the-philly-museum-...  \n",
       "3   http://observer.com/2015/04/luxury-jeweler-sat...  \n",
       "4   http://observer.com/2015/04/on-the-market-blan...  \n",
       "5   http://observer.com/2015/04/rutgers-ban-on-all...  \n",
       "6   http://observer.com/2015/04/gentile-backs-plan...  \n",
       "7   http://observer.com/2015/04/david-paterson-nam...  \n",
       "8   http://observer.com/2015/04/museum-of-fine-art...  \n",
       "9   http://observer.com/2015/04/staten-island-cong...  \n",
       "10  http://observer.com/2015/04/morning-news-diges...  \n",
       "11  http://observer.com/2015/04/bridgegate-indictm...  \n",
       "12  http://observer.com/2015/04/clinton-and-christ...  \n",
       "13  http://observer.com/2015/04/deportation-office...  \n",
       "14  http://observer.com/2015/04/veteran-nj-operati...  \n",
       "15  http://observer.com/2015/04/baraka-on-bus-call...  \n",
       "16  http://observer.com/2015/04/ballot-position-fi...  \n",
       "17  http://observer.com/2015/04/2013-republican-u-...  \n",
       "18  http://observer.com/2015/04/an-april-renaissan...  \n",
       "19  http://observer.com/2015/04/inside-periscope-h...  "
      ]
     },
     "execution_count": 35,
     "metadata": {},
     "output_type": "execute_result"
    }
   ],
   "source": [
    "df.head(20)"
   ]
  },
  {
   "cell_type": "code",
   "execution_count": 33,
   "metadata": {
    "collapsed": true
   },
   "outputs": [],
   "source": [
    "df = df.dropna(axis=0,how='any')"
   ]
  },
  {
   "cell_type": "code",
   "execution_count": 34,
   "metadata": {
    "collapsed": false
   },
   "outputs": [],
   "source": [
    "df = df.reset_index(drop=True)"
   ]
  },
  {
   "cell_type": "code",
   "execution_count": 37,
   "metadata": {
    "collapsed": false
   },
   "outputs": [
    {
     "name": "stderr",
     "output_type": "stream",
     "text": [
      "/Users/Clark/Library/Enthought/Canopy_64bit/User/lib/python2.7/site-packages/pandas/core/indexing.py:117: SettingWithCopyWarning: \n",
      "A value is trying to be set on a copy of a slice from a DataFrame\n",
      "\n",
      "See the caveats in the documentation: http://pandas.pydata.org/pandas-docs/stable/indexing.html#indexing-view-versus-copy\n",
      "  self._setitem_with_indexer(indexer, value)\n"
     ]
    }
   ],
   "source": [
    "df['flesh_score'] = 0\n",
    "for i in range(0,len(df['content'])):\n",
    "    df['flesh_score'].ix[i] =  textstat.flesch_reading_ease(df['content'].ix[i])\n"
   ]
  },
  {
   "cell_type": "code",
   "execution_count": 41,
   "metadata": {
    "collapsed": true
   },
   "outputs": [],
   "source": [
    "df.to_csv('word_complex_scores.csv')"
   ]
  },
  {
   "cell_type": "code",
   "execution_count": null,
   "metadata": {
    "collapsed": true
   },
   "outputs": [],
   "source": []
  }
 ],
 "metadata": {
  "kernelspec": {
   "display_name": "Python 2",
   "language": "python",
   "name": "python2"
  },
  "language_info": {
   "codemirror_mode": {
    "name": "ipython",
    "version": 2
   },
   "file_extension": ".py",
   "mimetype": "text/x-python",
   "name": "python",
   "nbconvert_exporter": "python",
   "pygments_lexer": "ipython2",
   "version": "2.7.10"
  }
 },
 "nbformat": 4,
 "nbformat_minor": 0
}
